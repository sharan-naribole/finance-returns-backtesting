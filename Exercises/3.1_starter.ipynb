{
 "cells": [
  {
   "cell_type": "code",
   "execution_count": null,
   "id": "1829514a",
   "metadata": {},
   "outputs": [],
   "source": [
    "import numpy as np\n",
    "import yfinance as yf\n",
    "from utils import plot_returns"
   ]
  },
  {
   "cell_type": "code",
   "execution_count": null,
   "id": "bdd1b012",
   "metadata": {},
   "outputs": [],
   "source": [
    "# Download S&P 500 front month futures data\n",
    "prices = yf.download('ES=F')['Adj Close']"
   ]
  },
  {
   "cell_type": "code",
   "execution_count": null,
   "id": "fd49c5ae",
   "metadata": {},
   "outputs": [],
   "source": [
    "# Calculate daily logarithmic returns\n",
    "log_returns = np.log(prices).diff()"
   ]
  },
  {
   "cell_type": "code",
   "execution_count": null,
   "id": "a451bf77",
   "metadata": {},
   "outputs": [],
   "source": [
    "# Annualize returns and volatility\n",
    "annualized_return = None\n",
    "annualized_vol = None\n",
    "# Download the 3-month Treasury bill rate as the risk-free rate\n",
    "sp500_start_date = str(prices.index[0])[:10]\n",
    "risk_free_rates = yf.download('^IRX', start=sp500_start_date)['Adj Close']\n",
    "avg_risk_free_rate = risk_free_rates.mean() / 100"
   ]
  },
  {
   "cell_type": "code",
   "execution_count": null,
   "id": "065559b2",
   "metadata": {},
   "outputs": [],
   "source": [
    "# Calculate the Sharpe Ratio\n",
    "sharpe_ratio = None\n",
    "# Calculate the Sortino Ratio\n",
    "downside_vol = None\n",
    "sortino_ratio = None\n",
    "# Calculate the Calmar Ratio\n",
    "cum_returns = None\n",
    "drawdowns = None\n",
    "max_drawdown = None\n",
    "calmar_ratio = None"
   ]
  },
  {
   "cell_type": "code",
   "execution_count": null,
   "id": "684bcfcc",
   "metadata": {},
   "outputs": [],
   "source": [
    "print()\n",
    "print(f\"annualized_return: {np.round(annualized_return * 100, 1)}%\")\n",
    "print(f\"avg_risk_free_rate: {np.round(avg_risk_free_rate * 100, 1)}%\")\n",
    "print(f\"annualized_volatility: {np.round(annualized_vol * 100, 1)}%\")\n",
    "print(f\"downside_volatility: {np.round(downside_vol * 100, 1)}%\")\n",
    "print(f\"max_drawdown: {np.round(max_drawdown * 100, 1)}%\")\n",
    "print()\n",
    "print(f\"sharpe_ratio: {np.round(sharpe_ratio, 2)}\")\n",
    "print(f\"sortino_ratio: {np.round(sortino_ratio, 2)}\")\n",
    "print(f\"calmar_ratio: {np.round(calmar_ratio, 2)}\")\n",
    "print()"
   ]
  },
  {
   "cell_type": "code",
   "execution_count": null,
   "id": "c3ad8436",
   "metadata": {},
   "outputs": [],
   "source": [
    "plot_returns(log_returns)"
   ]
  }
 ],
 "metadata": {
  "jupytext": {
   "cell_metadata_filter": "-all",
   "main_language": "python",
   "notebook_metadata_filter": "-all"
  }
 },
 "nbformat": 4,
 "nbformat_minor": 5
}
