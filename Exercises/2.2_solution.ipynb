{
 "cells": [
  {
   "cell_type": "code",
   "execution_count": null,
   "id": "7f8cb9b4",
   "metadata": {},
   "outputs": [],
   "source": [
    "import pandas as pd\n",
    "import numpy as np\n",
    "import yfinance as yf\n",
    "import matplotlib.pyplot as plt\n",
    "import matplotlib.dates as mdates\n",
    "from matplotlib.ticker import MultipleLocator"
   ]
  },
  {
   "cell_type": "code",
   "execution_count": null,
   "id": "d8f412f6",
   "metadata": {},
   "outputs": [],
   "source": [
    "# Download S&P 500 front month futures data\n",
    "sp500_futures_prices = yf.download('ES=F')[\"Adj Close\"]"
   ]
  },
  {
   "cell_type": "code",
   "execution_count": null,
   "id": "8f36b21b",
   "metadata": {},
   "outputs": [],
   "source": [
    "# Calculate logarithmic returns\n",
    "log_returns = np.log(sp500_futures_prices).diff()"
   ]
  },
  {
   "cell_type": "code",
   "execution_count": null,
   "id": "619e6ed8",
   "metadata": {},
   "outputs": [],
   "source": [
    "# Calculate cumulative returns\n",
    "cumulative_returns = np.exp(log_returns.cumsum())"
   ]
  },
  {
   "cell_type": "code",
   "execution_count": null,
   "id": "95634bab",
   "metadata": {},
   "outputs": [],
   "source": [
    "# Calculate ongoing drawdown\n",
    "rolling_max = cumulative_returns.cummax()\n",
    "drawdowns = (cumulative_returns - rolling_max) / rolling_max"
   ]
  },
  {
   "cell_type": "code",
   "execution_count": null,
   "id": "3afc694f",
   "metadata": {},
   "outputs": [],
   "source": [
    "# Create figure and axis objects\n",
    "fig, ax = plt.subplots()\n",
    "# Plotting the results\n",
    "ax.plot(cumulative_returns - 1, label='Cumulative Returns')\n",
    "ax.fill_between(drawdowns.index, drawdowns, label='Drawdowns', color='red', alpha=0.3)\n",
    "# Setting x-axis major locator to each year and formatter\n",
    "ax.xaxis.set_major_locator(mdates.YearLocator())\n",
    "ax.xaxis.set_major_formatter(mdates.DateFormatter('%Y'))\n",
    "# Setting y-axis ticks every 20%\n",
    "ax.yaxis.set_major_locator(MultipleLocator(0.2))\n",
    "# Adding grid with vertical lines for each year\n",
    "ax.grid(True, which='major', linestyle='--', color='grey')\n",
    "# Rotate x-axis labels by 45 degrees\n",
    "plt.xticks(rotation=45)\n",
    "# Ensure date labels are visible\n",
    "ax.legend()\n",
    "ax.set_title('S&P500 Cumulative Returns and Drawdowns')\n",
    "ax.set_xlabel('Date')\n",
    "ax.set_ylabel('Returns/Drawdown')\n",
    "fig.tight_layout()\n",
    "plt.show()"
   ]
  }
 ],
 "metadata": {
  "jupytext": {
   "cell_metadata_filter": "-all",
   "main_language": "python",
   "notebook_metadata_filter": "-all"
  }
 },
 "nbformat": 4,
 "nbformat_minor": 5
}
