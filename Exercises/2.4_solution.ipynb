{
 "cells": [
  {
   "cell_type": "code",
   "execution_count": null,
   "id": "c770f8fb",
   "metadata": {
    "lines_to_next_cell": 0
   },
   "outputs": [],
   "source": []
  },
  {
   "cell_type": "code",
   "execution_count": null,
   "id": "f1075416",
   "metadata": {},
   "outputs": [],
   "source": [
    "import numpy as np\n",
    "import yfinance as yf\n",
    "from utils import plot_returns"
   ]
  },
  {
   "cell_type": "code",
   "execution_count": null,
   "id": "0066c301",
   "metadata": {},
   "outputs": [],
   "source": [
    "# Download S&P 500 front month futures data\n",
    "prices = yf.download(['ES=F', 'ZN=F'])[\"Adj Close\"].resample(\"M\").last()\n",
    "# Calculate logarithmic returns\n",
    "log_returns = np.log(prices).diff()\n",
    "# Set portfolio weights\n",
    "weights = np.array([.6, .4])\n",
    "# Calculate weighted returns\n",
    "weighted_returns = log_returns * weights\n",
    "# Calculate portfolio returns\n",
    "portfolio_returns = weighted_returns.sum(axis=1)"
   ]
  },
  {
   "cell_type": "code",
   "execution_count": null,
   "id": "2d055019",
   "metadata": {},
   "outputs": [],
   "source": [
    "plot_returns(portfolio_returns)"
   ]
  }
 ],
 "metadata": {
  "jupytext": {
   "cell_metadata_filter": "-all",
   "main_language": "python",
   "notebook_metadata_filter": "-all"
  }
 },
 "nbformat": 4,
 "nbformat_minor": 5
}
